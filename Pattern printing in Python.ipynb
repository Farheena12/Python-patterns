{
 "cells": [
  {
   "cell_type": "markdown",
   "id": "perfect-annotation",
   "metadata": {},
   "source": [
    "# Python Pattern Printing"
   ]
  },
  {
   "cell_type": "markdown",
   "id": "indirect-queensland",
   "metadata": {},
   "source": [
    "## 1.Rightangle triangle pattern"
   ]
  },
  {
   "cell_type": "code",
   "execution_count": 1,
   "id": "western-tolerance",
   "metadata": {},
   "outputs": [
    {
     "name": "stdout",
     "output_type": "stream",
     "text": [
      "Enter the number of rows : 5\n"
     ]
    }
   ],
   "source": [
    "no_rows = int(input(\"Enter the number of rows : \"))"
   ]
  },
  {
   "cell_type": "code",
   "execution_count": 2,
   "id": "sufficient-activation",
   "metadata": {},
   "outputs": [
    {
     "name": "stdout",
     "output_type": "stream",
     "text": [
      "* \n",
      "* * \n",
      "* * * \n",
      "* * * * \n",
      "* * * * * \n"
     ]
    }
   ],
   "source": [
    "for rowno in range(1,no_rows+1):\n",
    "    for colno in range(1,rowno+1):\n",
    "        print('* ',end='')\n",
    "    print()"
   ]
  },
  {
   "cell_type": "code",
   "execution_count": 3,
   "id": "national-marina",
   "metadata": {},
   "outputs": [
    {
     "name": "stdout",
     "output_type": "stream",
     "text": [
      "\n",
      "* \n",
      "* * \n",
      "* * * \n",
      "* * * * \n",
      "* * * * * \n"
     ]
    }
   ],
   "source": [
    "#Alternate with 1 loop only\n",
    "n = 6\n",
    "for i in range(n):\n",
    "    print('* '*i,end='')\n",
    "    print()"
   ]
  },
  {
   "cell_type": "markdown",
   "id": "private-latex",
   "metadata": {},
   "source": [
    "## 2.Reverse of Rightangle triangle pattern"
   ]
  },
  {
   "cell_type": "code",
   "execution_count": 4,
   "id": "dedicated-eight",
   "metadata": {},
   "outputs": [
    {
     "name": "stdout",
     "output_type": "stream",
     "text": [
      "Enter the number of rows : 5\n"
     ]
    }
   ],
   "source": [
    "no_rows = int(input(\"Enter the number of rows : \"))"
   ]
  },
  {
   "cell_type": "code",
   "execution_count": 5,
   "id": "received-cylinder",
   "metadata": {},
   "outputs": [
    {
     "name": "stdout",
     "output_type": "stream",
     "text": [
      "* * * * \n",
      "* * * \n",
      "* * \n",
      "* \n",
      "\n"
     ]
    }
   ],
   "source": [
    "for rowno in range(no_rows,0,-1):\n",
    "    for colno in range(1,rowno):\n",
    "        print('* ',end='')\n",
    "    print()"
   ]
  },
  {
   "cell_type": "code",
   "execution_count": 6,
   "id": "controlling-privilege",
   "metadata": {},
   "outputs": [
    {
     "name": "stdout",
     "output_type": "stream",
     "text": [
      "* * * * * \n",
      "* * * * \n",
      "* * * \n",
      "* * \n",
      "* \n"
     ]
    }
   ],
   "source": [
    "#Alternate with 1 loop only\n",
    "n = 5\n",
    "for i in range(n,0,-1):\n",
    "    print('* '*(i),end='')\n",
    "    print()"
   ]
  },
  {
   "cell_type": "markdown",
   "id": "numerical-workstation",
   "metadata": {},
   "source": [
    "## 3. Hollow Rightangle triangle pattern"
   ]
  },
  {
   "cell_type": "code",
   "execution_count": 7,
   "id": "likely-front",
   "metadata": {},
   "outputs": [
    {
     "name": "stdout",
     "output_type": "stream",
     "text": [
      "Enter the number of rows : 5\n"
     ]
    }
   ],
   "source": [
    "no_rows = int(input(\"Enter the number of rows : \"))"
   ]
  },
  {
   "cell_type": "code",
   "execution_count": 8,
   "id": "unsigned-delta",
   "metadata": {},
   "outputs": [
    {
     "name": "stdout",
     "output_type": "stream",
     "text": [
      "*         \n",
      "* *       \n",
      "*   *     \n",
      "*     *   \n",
      "* * * * * \n"
     ]
    }
   ],
   "source": [
    "for rowno in range(1,no_rows+1):\n",
    "    for colno in range(1,no_rows+1):\n",
    "        if (colno == 1) or (rowno == no_rows) or (rowno == colno):\n",
    "            print('*',end=' ')\n",
    "        else:\n",
    "            print(' ',end=' ')\n",
    "    print()"
   ]
  },
  {
   "cell_type": "markdown",
   "id": "worthy-aruba",
   "metadata": {},
   "source": [
    "## 4.Inverse Rightangle triangle pattern"
   ]
  },
  {
   "cell_type": "code",
   "execution_count": 9,
   "id": "seeing-collins",
   "metadata": {},
   "outputs": [
    {
     "name": "stdout",
     "output_type": "stream",
     "text": [
      "Enter the number of rows : 5\n"
     ]
    }
   ],
   "source": [
    "no_rows = int(input(\"Enter the number of rows : \"))"
   ]
  },
  {
   "cell_type": "code",
   "execution_count": 10,
   "id": "trying-softball",
   "metadata": {},
   "outputs": [
    {
     "name": "stdout",
     "output_type": "stream",
     "text": [
      "        * \n",
      "      * * \n",
      "    *   * \n",
      "  *     * \n",
      "* * * * * \n"
     ]
    }
   ],
   "source": [
    "for rowno in range(1,no_rows+1):\n",
    "    for colno in range(1,no_rows+1):\n",
    "        if (rowno == no_rows) or (colno == no_rows) or (rowno+colno == no_rows+1):\n",
    "            print('*',end=' ')\n",
    "        else:\n",
    "            print(' ',end=' ')\n",
    "    print()"
   ]
  },
  {
   "cell_type": "markdown",
   "id": "vulnerable-jones",
   "metadata": {},
   "source": [
    "## 5.Reverse Hollow Rightangle triangle pattern"
   ]
  },
  {
   "cell_type": "code",
   "execution_count": 11,
   "id": "wired-facial",
   "metadata": {},
   "outputs": [
    {
     "name": "stdout",
     "output_type": "stream",
     "text": [
      "Enter the number of rows : 5\n"
     ]
    }
   ],
   "source": [
    "no_rows = int(input(\"Enter the number of rows : \"))"
   ]
  },
  {
   "cell_type": "code",
   "execution_count": 12,
   "id": "prescription-threat",
   "metadata": {},
   "outputs": [
    {
     "name": "stdout",
     "output_type": "stream",
     "text": [
      "* * * * * \n",
      "*     *   \n",
      "*   *     \n",
      "* *       \n",
      "*         \n"
     ]
    }
   ],
   "source": [
    "for rowno in range(no_rows,0,-1):\n",
    "    for colno in range(1,no_rows+1):\n",
    "        if (colno ==1) or (rowno == no_rows) or (rowno == colno):\n",
    "            print('*',end=' ')\n",
    "        else:\n",
    "            print(' ',end=' ')\n",
    "    print()"
   ]
  },
  {
   "cell_type": "markdown",
   "id": "invalid-offer",
   "metadata": {},
   "source": [
    "## 6.Upper mirror img of triangle"
   ]
  },
  {
   "cell_type": "code",
   "execution_count": 13,
   "id": "outstanding-breathing",
   "metadata": {},
   "outputs": [
    {
     "name": "stdout",
     "output_type": "stream",
     "text": [
      "Enter the number of rows : 5\n"
     ]
    }
   ],
   "source": [
    "no_rows = int(input(\"Enter the number of rows : \"))"
   ]
  },
  {
   "cell_type": "code",
   "execution_count": 14,
   "id": "congressional-guess",
   "metadata": {},
   "outputs": [
    {
     "name": "stdout",
     "output_type": "stream",
     "text": [
      "* * * * * \n",
      "  *     * \n",
      "    *   * \n",
      "      * * \n",
      "        * \n"
     ]
    }
   ],
   "source": [
    "for rowno in range(1,no_rows+1):\n",
    "    for colno in range(1,no_rows+1):\n",
    "        if (rowno==1) or (colno==no_rows) or (rowno==colno) :\n",
    "            print('*',end=' ')\n",
    "        else:\n",
    "            print(' ',end=' ')\n",
    "    print()"
   ]
  },
  {
   "cell_type": "markdown",
   "id": "declared-pepper",
   "metadata": {},
   "source": [
    "## 7.Square pattern"
   ]
  },
  {
   "cell_type": "code",
   "execution_count": 15,
   "id": "rolled-savage",
   "metadata": {},
   "outputs": [
    {
     "name": "stdout",
     "output_type": "stream",
     "text": [
      "Enter the number of rows : 5\n"
     ]
    }
   ],
   "source": [
    "no_rows = int(input(\"Enter the number of rows : \"))"
   ]
  },
  {
   "cell_type": "code",
   "execution_count": 16,
   "id": "demonstrated-romania",
   "metadata": {},
   "outputs": [
    {
     "name": "stdout",
     "output_type": "stream",
     "text": [
      "* * * * * \n",
      "* * * * * \n",
      "* * * * * \n",
      "* * * * * \n",
      "* * * * * \n"
     ]
    }
   ],
   "source": [
    "for rowno in range(1,no_rows+1):\n",
    "    for colno in range(1,no_rows+1):\n",
    "        print('*',end=' ')\n",
    "    print()"
   ]
  },
  {
   "cell_type": "markdown",
   "id": "editorial-solution",
   "metadata": {},
   "source": [
    "## 8.Hollow square pattern"
   ]
  },
  {
   "cell_type": "code",
   "execution_count": 17,
   "id": "included-prayer",
   "metadata": {},
   "outputs": [
    {
     "name": "stdout",
     "output_type": "stream",
     "text": [
      "Enter the number of rows : 5\n"
     ]
    }
   ],
   "source": [
    "no_rows = int(input(\"Enter the number of rows : \"))"
   ]
  },
  {
   "cell_type": "code",
   "execution_count": 18,
   "id": "worse-comparison",
   "metadata": {},
   "outputs": [
    {
     "name": "stdout",
     "output_type": "stream",
     "text": [
      "* * * * * \n",
      "*       * \n",
      "*       * \n",
      "*       * \n",
      "* * * * * \n"
     ]
    }
   ],
   "source": [
    "for rowno in range(1,no_rows+1):\n",
    "    for colno in range(1,no_rows+1):\n",
    "        if (rowno==1) or (colno==1) or (colno == no_rows) or (rowno == no_rows):\n",
    "            print('*',end=' ')\n",
    "        else:\n",
    "            print(' ',end=' ')\n",
    "    print()"
   ]
  },
  {
   "cell_type": "markdown",
   "id": "consecutive-spank",
   "metadata": {},
   "source": [
    "## 8.X pattern"
   ]
  },
  {
   "cell_type": "code",
   "execution_count": 19,
   "id": "entitled-mexican",
   "metadata": {},
   "outputs": [
    {
     "name": "stdout",
     "output_type": "stream",
     "text": [
      "Enter the number of rows : 5\n"
     ]
    }
   ],
   "source": [
    "no_rows = int(input(\"Enter the number of rows : \"))"
   ]
  },
  {
   "cell_type": "code",
   "execution_count": 20,
   "id": "descending-robinson",
   "metadata": {},
   "outputs": [
    {
     "name": "stdout",
     "output_type": "stream",
     "text": [
      "*       * \n",
      "  *   *   \n",
      "    *     \n",
      "  *   *   \n",
      "*       * \n"
     ]
    }
   ],
   "source": [
    "for rowno in range(no_rows):\n",
    "    for colno in range(no_rows):\n",
    "        if (rowno==colno) or (rowno+colno==no_rows-1):\n",
    "            print('*',end=' ')\n",
    "        else:\n",
    "            print(' ',end=' ')\n",
    "    print()"
   ]
  },
  {
   "cell_type": "markdown",
   "id": "extraordinary-employer",
   "metadata": {},
   "source": [
    "## 9. with numbers for odd numbers only"
   ]
  },
  {
   "cell_type": "code",
   "execution_count": 21,
   "id": "configured-assembly",
   "metadata": {},
   "outputs": [
    {
     "name": "stdout",
     "output_type": "stream",
     "text": [
      "Enter the number of rows : 5\n"
     ]
    }
   ],
   "source": [
    "no_rows = int(input(\"Enter the number of rows : \"))"
   ]
  },
  {
   "cell_type": "code",
   "execution_count": 22,
   "id": "infrared-ordinance",
   "metadata": {},
   "outputs": [
    {
     "name": "stdout",
     "output_type": "stream",
     "text": [
      "0       0 \n",
      "  1   1   \n",
      "    2     \n",
      "  3   3   \n",
      "4       4 \n"
     ]
    }
   ],
   "source": [
    "for rowno in range(no_rows):\n",
    "    for colno in range(no_rows):\n",
    "        if (rowno==colno) or (rowno+colno==no_rows-1):\n",
    "            print(rowno,end=' ')\n",
    "        else:\n",
    "            print(' ',end=' ')\n",
    "    print()"
   ]
  },
  {
   "cell_type": "markdown",
   "id": "electrical-burning",
   "metadata": {},
   "source": [
    "## 10.Pyramid pattern"
   ]
  },
  {
   "cell_type": "code",
   "execution_count": 23,
   "id": "desperate-admission",
   "metadata": {},
   "outputs": [
    {
     "name": "stdout",
     "output_type": "stream",
     "text": [
      "Enter the number of rows : 5\n"
     ]
    }
   ],
   "source": [
    "no_rows = int(input(\"Enter the number of rows : \"))"
   ]
  },
  {
   "cell_type": "code",
   "execution_count": 24,
   "id": "warming-glasgow",
   "metadata": {},
   "outputs": [
    {
     "name": "stdout",
     "output_type": "stream",
     "text": [
      "    * \n",
      "   * * \n",
      "  * * * \n",
      " * * * * \n",
      "* * * * * \n"
     ]
    }
   ],
   "source": [
    "for rowno in range(no_rows):\n",
    "    for space in range(no_rows-rowno-1):\n",
    "        print(end=' ')\n",
    "    for colno in range(rowno+1):\n",
    "        print('*', end= ' ')\n",
    "    print()"
   ]
  },
  {
   "cell_type": "markdown",
   "id": "affected-south",
   "metadata": {},
   "source": [
    "## 11.Reverse pyramid pattern"
   ]
  },
  {
   "cell_type": "code",
   "execution_count": 25,
   "id": "central-husband",
   "metadata": {},
   "outputs": [
    {
     "name": "stdout",
     "output_type": "stream",
     "text": [
      "Enter the number of rows : 5\n"
     ]
    }
   ],
   "source": [
    "no_rows = int(input(\"Enter the number of rows : \"))"
   ]
  },
  {
   "cell_type": "code",
   "execution_count": 26,
   "id": "prime-spider",
   "metadata": {},
   "outputs": [
    {
     "name": "stdout",
     "output_type": "stream",
     "text": [
      "* * * * * \n",
      " * * * * \n",
      "  * * * \n",
      "   * * \n",
      "    * \n"
     ]
    }
   ],
   "source": [
    "for rowno in range(no_rows,0,-1):\n",
    "    for space in range(no_rows-rowno):\n",
    "        print(end=' ')\n",
    "    for colno in range(rowno):\n",
    "        print('*',end=' ')\n",
    "    print()"
   ]
  },
  {
   "cell_type": "markdown",
   "id": "tutorial-syndication",
   "metadata": {},
   "source": [
    "## 12.Hollow pyramid pattern"
   ]
  },
  {
   "cell_type": "code",
   "execution_count": 27,
   "id": "veterinary-rochester",
   "metadata": {},
   "outputs": [
    {
     "name": "stdout",
     "output_type": "stream",
     "text": [
      "Enter the number of rows : 5\n"
     ]
    }
   ],
   "source": [
    "no_rows = int(input(\"Enter the number of rows : \"))"
   ]
  },
  {
   "cell_type": "code",
   "execution_count": 28,
   "id": "independent-duration",
   "metadata": {},
   "outputs": [
    {
     "name": "stdout",
     "output_type": "stream",
     "text": [
      "    * \n",
      "   * * \n",
      "  *   * \n",
      " *     * \n",
      "* * * * * \n"
     ]
    }
   ],
   "source": [
    "for rowno in range(no_rows):\n",
    "    for space in range(no_rows-rowno-1):\n",
    "        print(end=' ')\n",
    "    for colno in range(rowno+1):\n",
    "        if (rowno>=2 and rowno<no_rows-1) and (colno>0 and colno<rowno):\n",
    "            print(' ',end=' ')\n",
    "        else:\n",
    "            print('*',end=' ')\n",
    "    print()"
   ]
  },
  {
   "cell_type": "markdown",
   "id": "acknowledged-anxiety",
   "metadata": {},
   "source": [
    "# 13.Inverse hollow pyramid pattern"
   ]
  },
  {
   "cell_type": "code",
   "execution_count": 29,
   "id": "robust-railway",
   "metadata": {},
   "outputs": [
    {
     "name": "stdout",
     "output_type": "stream",
     "text": [
      "Enter the number of rows : 5\n"
     ]
    }
   ],
   "source": [
    "no_rows = int(input(\"Enter the number of rows : \"))"
   ]
  },
  {
   "cell_type": "code",
   "execution_count": 30,
   "id": "pharmaceutical-botswana",
   "metadata": {},
   "outputs": [
    {
     "name": "stdout",
     "output_type": "stream",
     "text": [
      "* * * * * \n",
      " *     * \n",
      "  *   * \n",
      "   * * \n",
      "    * \n"
     ]
    }
   ],
   "source": [
    "for rowno in range(no_rows,0,-1):\n",
    "    for space in range(no_rows-rowno):\n",
    "        print(end=' ')\n",
    "    for colno in range(rowno):\n",
    "        if (rowno>2 and (rowno<no_rows)) and (colno>0 and (colno<rowno-1)):\n",
    "            print(end='  ')\n",
    "        else:\n",
    "            print('*',end=' ')\n",
    "    print()"
   ]
  },
  {
   "cell_type": "markdown",
   "id": "mechanical-obligation",
   "metadata": {},
   "source": [
    "## 14.Diamond pattern"
   ]
  },
  {
   "cell_type": "code",
   "execution_count": 31,
   "id": "caroline-august",
   "metadata": {},
   "outputs": [
    {
     "name": "stdout",
     "output_type": "stream",
     "text": [
      "Enter the number of rows : 5\n"
     ]
    }
   ],
   "source": [
    "no_rows = int(input(\"Enter the number of rows : \"))"
   ]
  },
  {
   "cell_type": "code",
   "execution_count": 32,
   "id": "raising-remains",
   "metadata": {},
   "outputs": [
    {
     "name": "stdout",
     "output_type": "stream",
     "text": [
      "    * \n",
      "   * * \n",
      "  * * * \n",
      " * * * * \n",
      "* * * * * \n",
      " * * * * \n",
      "  * * * \n",
      "   * * \n",
      "    * \n"
     ]
    }
   ],
   "source": [
    "for rowno in range(no_rows):\n",
    "    for space in range(no_rows-rowno-1):\n",
    "        print(end=' ')\n",
    "    for colno in range(rowno+1):\n",
    "        print('*',end=' ')\n",
    "    print()\n",
    "for rowno in range(no_rows-1,0,-1):\n",
    "    for space in range(no_rows-rowno):\n",
    "        print(end=' ')\n",
    "    for colno in range(rowno):\n",
    "        print('*',end=' ')\n",
    "    print()"
   ]
  },
  {
   "cell_type": "markdown",
   "id": "western-breathing",
   "metadata": {},
   "source": [
    "## 15.Hollow Diamond pattern"
   ]
  },
  {
   "cell_type": "code",
   "execution_count": 33,
   "id": "metric-revolution",
   "metadata": {},
   "outputs": [
    {
     "name": "stdout",
     "output_type": "stream",
     "text": [
      "Enter the number of rows : 5\n"
     ]
    }
   ],
   "source": [
    "no_rows = int(input(\"Enter the number of rows : \"))"
   ]
  },
  {
   "cell_type": "code",
   "execution_count": 34,
   "id": "under-consideration",
   "metadata": {},
   "outputs": [
    {
     "name": "stdout",
     "output_type": "stream",
     "text": [
      "    * \n",
      "   * * \n",
      "  *   * \n",
      " *     * \n",
      "* * * * * \n",
      " *     * \n",
      "  *   * \n",
      "   * * \n",
      "    * \n"
     ]
    }
   ],
   "source": [
    "for rowno in range(no_rows):\n",
    "    for space in range(no_rows-rowno-1):\n",
    "        print(end=' ')        \n",
    "    for colno in range(rowno+1):\n",
    "        if ((rowno>=2 and (rowno<no_rows-1)) and (colno>0 and (colno<rowno))):\n",
    "            print(' ',end=' ')\n",
    "        else:\n",
    "            print('*',end=' ')\n",
    "    print()\n",
    "for rowno in range(no_rows-1,0,-1):\n",
    "    for space in range(no_rows,rowno,-1):\n",
    "        print(end=' ')\n",
    "    for colno in range(rowno):\n",
    "        if ((rowno<no_rows) and rowno>0) and (colno>0 and (colno<rowno-1)):\n",
    "           print(' ',end=' ')\n",
    "        else:\n",
    "           print('*',end=' ')\n",
    "    print()"
   ]
  },
  {
   "cell_type": "markdown",
   "id": "mineral-screening",
   "metadata": {},
   "source": [
    "## 16.Hollow Diamond with 1 loop only"
   ]
  },
  {
   "cell_type": "code",
   "execution_count": 35,
   "id": "verified-suspect",
   "metadata": {},
   "outputs": [
    {
     "name": "stdout",
     "output_type": "stream",
     "text": [
      "      * \n",
      "    *   *\n",
      "  *       *\n",
      "*           *\n"
     ]
    }
   ],
   "source": [
    "n = 4\n",
    "for i in range(n):\n",
    "    print('  '*(n-i-1)+'* ',end='')\n",
    "    if i>=1:\n",
    "        print('  '*(2*i-1)+'*',end='')\n",
    "    print()\n",
    "\n",
    "    "
   ]
  },
  {
   "cell_type": "code",
   "execution_count": 36,
   "id": "banned-ethics",
   "metadata": {},
   "outputs": [
    {
     "name": "stdout",
     "output_type": "stream",
     "text": [
      "*           *\n",
      "  *       *\n",
      "    *   *\n",
      "      * \n"
     ]
    }
   ],
   "source": [
    "n=4\n",
    "for i in range(n):\n",
    "    print('  '*i+'* ',end='')\n",
    "    if i!=n-1:\n",
    "        print('  '*(2*n-2*i-3)+'*',end='')\n",
    "    print()\n",
    "    "
   ]
  },
  {
   "cell_type": "markdown",
   "id": "compound-garbage",
   "metadata": {},
   "source": [
    "## 17.New Pyramid pattern(Interview)"
   ]
  },
  {
   "cell_type": "code",
   "execution_count": 37,
   "id": "driven-tunisia",
   "metadata": {},
   "outputs": [
    {
     "name": "stdout",
     "output_type": "stream",
     "text": [
      "Enter the number of rows : 5\n"
     ]
    }
   ],
   "source": [
    "no_rows = int(input(\"Enter the number of rows : \"))"
   ]
  },
  {
   "cell_type": "code",
   "execution_count": 38,
   "id": "correct-calcium",
   "metadata": {},
   "outputs": [
    {
     "name": "stdout",
     "output_type": "stream",
     "text": [
      "    #\n",
      "   #*#\n",
      "  #***#\n",
      " #*****#\n",
      "#*******#\n"
     ]
    }
   ],
   "source": [
    "for rowno in range(no_rows):\n",
    "    for space in range(no_rows-rowno-1):\n",
    "        print(' ',end='')\n",
    "    for colno in range(2*rowno+1):\n",
    "        if(rowno>=1 and rowno<no_rows) and (colno>0 and colno<2*rowno):\n",
    "            print('*',end='')\n",
    "        else:\n",
    "            print('#',end='')\n",
    "    print()"
   ]
  },
  {
   "cell_type": "code",
   "execution_count": 39,
   "id": "secondary-wesley",
   "metadata": {},
   "outputs": [
    {
     "name": "stdout",
     "output_type": "stream",
     "text": [
      "   #\n",
      "  #*#\n",
      " #***#\n",
      "#*****#\n"
     ]
    }
   ],
   "source": [
    "#Alternate with 1 loop only\n",
    "n = 4\n",
    "for i in range(n):\n",
    "    print(' '*(n-i-1)+'#',end='')\n",
    "    if i>=1:\n",
    "        print('*'*(2*i-1)+'#',end='')\n",
    "    print()"
   ]
  },
  {
   "cell_type": "code",
   "execution_count": 40,
   "id": "outstanding-cheat",
   "metadata": {},
   "outputs": [
    {
     "name": "stdout",
     "output_type": "stream",
     "text": [
      "12345\n",
      "1234\n",
      "123\n",
      "12\n",
      "1\n",
      "\n"
     ]
    }
   ],
   "source": [
    "n = 5\n",
    "for rowno in range(n+1,0,-1):\n",
    "    for col in range(1,rowno):\n",
    "        print(col,end='')\n",
    "       \n",
    "    print()\n",
    "    "
   ]
  },
  {
   "cell_type": "code",
   "execution_count": 41,
   "id": "universal-government",
   "metadata": {},
   "outputs": [
    {
     "name": "stdout",
     "output_type": "stream",
     "text": [
      "\n",
      "\n",
      "1\n",
      "12\n",
      "123\n",
      "1234\n"
     ]
    }
   ],
   "source": [
    "n = 6\n",
    "for rowno in range(n):\n",
    "    for col in range(1,rowno):\n",
    "        print(col,end='')\n",
    "       \n",
    "    print()"
   ]
  },
  {
   "cell_type": "code",
   "execution_count": 43,
   "id": "negative-command",
   "metadata": {},
   "outputs": [
    {
     "name": "stdout",
     "output_type": "stream",
     "text": [
      "        1 \n",
      "      1   1\n",
      "    1       1\n",
      "  1           1\n"
     ]
    }
   ],
   "source": [
    "n = 4\n",
    "for i in range(n):\n",
    "    print('  '*(n-i)+'1 ',end='')\n",
    "    if i>=1:\n",
    "        print('  '*(2*i-1)+'1',end='')\n",
    "    print()"
   ]
  },
  {
   "cell_type": "code",
   "execution_count": 44,
   "id": "identified-motion",
   "metadata": {},
   "outputs": [
    {
     "name": "stdout",
     "output_type": "stream",
     "text": [
      "        A \n",
      "      A   A\n",
      "    A       A\n",
      "  A           A\n"
     ]
    }
   ],
   "source": [
    "n = 4\n",
    "for i in range(n):\n",
    "    print('  '*(n-i)+(chr(65)),end=' ')\n",
    "    if i >=1:\n",
    "        print('  '*(2*i-1)+(chr(65)),end='')\n",
    "    print()\n",
    "    "
   ]
  },
  {
   "cell_type": "code",
   "execution_count": 45,
   "id": "divided-cricket",
   "metadata": {},
   "outputs": [
    {
     "name": "stdout",
     "output_type": "stream",
     "text": [
      "A           A\n",
      "  A       A\n",
      "    A   A\n",
      "      A \n"
     ]
    }
   ],
   "source": [
    "n = 4\n",
    "for i in range(n):\n",
    "    print('  '*(i)+(chr(65)+' '),end='')\n",
    "    if i < n-1:\n",
    "        print('  '*(2*n-2*i-3)+(chr(65)),end='')\n",
    "    print()"
   ]
  },
  {
   "cell_type": "code",
   "execution_count": 46,
   "id": "insured-journey",
   "metadata": {},
   "outputs": [
    {
     "name": "stdout",
     "output_type": "stream",
     "text": [
      "        A \n",
      "      A   A\n",
      "    A       A\n",
      "  A           A\n",
      "    A       A\n",
      "      A   A\n",
      "        A \n"
     ]
    }
   ],
   "source": [
    "n = 4\n",
    "for i in range(n):\n",
    "    print('  '*(n-i)+(chr(65)),end=' ')\n",
    "    if i >=1:\n",
    "        print('  '*(2*i-1)+(chr(65)),end='')\n",
    "    print()\n",
    "for i in range(n-1):\n",
    "    print('  '*(i+2)+(chr(65)+' '),end='')\n",
    "    if i < n-2:\n",
    "        print('  '*(2*n-2*i-5)+(chr(65)),end='')\n",
    "    print()"
   ]
  },
  {
   "cell_type": "code",
   "execution_count": 47,
   "id": "experienced-agency",
   "metadata": {},
   "outputs": [
    {
     "name": "stdout",
     "output_type": "stream",
     "text": [
      "        * \n",
      "      *   *\n",
      "    *       *\n",
      "  *           *\n",
      "    *       *\n",
      "      *   *\n",
      "        * \n"
     ]
    }
   ],
   "source": [
    "n = 4\n",
    "for i in range(n):\n",
    "    print('  '*(n-i)+'* ',end='')\n",
    "    if i >=1:\n",
    "        print('  '*(2*i-1)+'*',end='')\n",
    "    print()\n",
    "for i in range(n-1):\n",
    "    print('  '*(i+2)+'* ',end='')\n",
    "    if i < n-2:\n",
    "        print('  '*(2*n-2*i-5)+'*',end='')\n",
    "    print()"
   ]
  },
  {
   "cell_type": "code",
   "execution_count": 48,
   "id": "thirty-starter",
   "metadata": {},
   "outputs": [
    {
     "name": "stdout",
     "output_type": "stream",
     "text": [
      "        0 \n",
      "      1 0 1\n",
      "    2 0 0 0 2\n",
      "  3 0 0 0 0 0 3\n"
     ]
    }
   ],
   "source": [
    "n= 4 \n",
    "for i in range(n):\n",
    "    print('  '*(n-i)+(str(i)+' '),end='')\n",
    "           \n",
    "    if i>=1:\n",
    "        print('0 '*(2*i-1)+str(i),end='')\n",
    "    print()\n",
    "    \n"
   ]
  },
  {
   "cell_type": "code",
   "execution_count": 49,
   "id": "structured-breach",
   "metadata": {},
   "outputs": [
    {
     "name": "stdout",
     "output_type": "stream",
     "text": [
      "    0\n",
      "   111\n",
      "  22222\n",
      " 3333333\n"
     ]
    }
   ],
   "source": [
    "n = 4\n",
    "\n",
    "for i in range(n):\n",
    "    print(' '*(n-i)+(str(i)*(2*i+1)),end='')\n",
    "    \n",
    "    print()"
   ]
  },
  {
   "cell_type": "code",
   "execution_count": 50,
   "id": "postal-religious",
   "metadata": {},
   "outputs": [
    {
     "name": "stdout",
     "output_type": "stream",
     "text": [
      "        * \n",
      "      * * * \n",
      "    * * * * * \n",
      "  * * * * * * * \n",
      "* * * * * * * * * \n",
      "  * * * * * * * \n",
      "    * * * * * \n",
      "      * * * \n",
      "        * \n"
     ]
    }
   ],
   "source": [
    "n = 5\n",
    "for i in range(n):\n",
    "    print('  '*(n-i-1)+'* '*(n+2*i-4),end='')\n",
    "    print()\n",
    "for i in range(n-1):\n",
    "    print(('  '*(i+1))+'* '*(n-2*i+2),end='')\n",
    "    print()"
   ]
  },
  {
   "cell_type": "code",
   "execution_count": 51,
   "id": "nasty-rehabilitation",
   "metadata": {},
   "outputs": [
    {
     "name": "stdout",
     "output_type": "stream",
     "text": [
      "      $ \n",
      "    $   $ \n",
      "  $       $ \n",
      "$     *     $ \n",
      "  $       $ \n",
      "    $   $ \n",
      "      $ \n"
     ]
    }
   ],
   "source": [
    "n = 4\n",
    "for i in range(n):\n",
    "    print('  '*(n-i-1)+'$ ',end='')\n",
    "    if i ==n-1:\n",
    "        print('  '*(2)+'* ',end='')\n",
    "        print('  '*(2)+'$ ',end='')\n",
    "    if i >=1 and i <=n-2:\n",
    "        print('  '*(2*i-1)+'$ ',end='')\n",
    "    \n",
    "    print()\n",
    "for i in range(n-1):\n",
    "    print(('  '*(i+1))+'$ ',end='')\n",
    "    if i < n-2:\n",
    "        print('  '*(n-2*i-1)+'$ ',end='')\n",
    "        \n",
    "    print()"
   ]
  },
  {
   "cell_type": "markdown",
   "id": "ordinary-granny",
   "metadata": {},
   "source": [
    "## Xmas Tree"
   ]
  },
  {
   "cell_type": "code",
   "execution_count": 52,
   "id": "interested-poetry",
   "metadata": {},
   "outputs": [
    {
     "name": "stdout",
     "output_type": "stream",
     "text": [
      "      * \n",
      "    * * * \n",
      "  * * * * * \n",
      "* * * * * * * \n",
      "    * * * \n",
      "  * * * * * \n",
      "* * * * * * * \n",
      "    * * * \n",
      "  * * * * * \n",
      "* * * * * * * \n",
      "    * * * \n",
      "    * * * \n",
      "    * * * \n"
     ]
    }
   ],
   "source": [
    "n= 4\n",
    "for i in range(n):\n",
    "    print('  '*(n-i-1)+'* '*(2*i+1),end='')\n",
    "    print()\n",
    "    \n",
    "for i in range(n-1):\n",
    "    print('  '*(n-i-2)+'* '*(2*i+3),end='')\n",
    "    print()\n",
    "for i in range(n-1):\n",
    "    print('  '*(n-i-2)+'* '*(2*i+3),end='')\n",
    "    print()\n",
    "for i in range(n-1):\n",
    "    print('  '*(2)+'* '*(n-1),end='')\n",
    "    print()"
   ]
  },
  {
   "cell_type": "markdown",
   "id": "forbidden-leisure",
   "metadata": {},
   "source": [
    "## Xmas Tree with different pattern"
   ]
  },
  {
   "cell_type": "code",
   "execution_count": 53,
   "id": "lesser-magnitude",
   "metadata": {},
   "outputs": [
    {
     "name": "stdout",
     "output_type": "stream",
     "text": [
      "        # \n",
      "      # * # \n",
      "    # * * * # \n",
      "  # * * * * * # \n",
      "# * * * * * * * # \n",
      "        # \n",
      "      # * # \n",
      "    # * * * # \n",
      "  # * * * * * # \n",
      "# * * * * * * * # \n",
      "        # \n",
      "      # * # \n",
      "    # * * * # \n",
      "  # * * * * * # \n",
      "# * * * * * * * # \n",
      "      # * #\n",
      "      # * #\n",
      "      # * #\n",
      "      # * #\n"
     ]
    }
   ],
   "source": [
    "n= 5\n",
    "for i in range(n):\n",
    "    print('  '*(n-i-1)+('# '),end='')\n",
    "    if i>=1:\n",
    "        print('* '*(2*i-1)+'# ',end='')\n",
    "    #for i in range(n):\n",
    "            \n",
    "    print()\n",
    "for i in range(n):\n",
    "    print('  '*(n-i-1)+('# '),end='')\n",
    "    if i>=1:\n",
    "        print('* '*(2*i-1)+'# ',end='')\n",
    "    print()\n",
    "for i in range(n):\n",
    "    print('  '*(n-i-1)+('# '),end='')\n",
    "    if i>=1:\n",
    "        print('* '*(2*i-1)+'# ',end='')\n",
    "    print()\n",
    "for i in range(n-1):\n",
    "    print('  '*(n-2)+'# * #',end='')\n",
    "    print()"
   ]
  }
 ],
 "metadata": {
  "kernelspec": {
   "display_name": "Python 3",
   "language": "python",
   "name": "python3"
  },
  "language_info": {
   "codemirror_mode": {
    "name": "ipython",
    "version": 3
   },
   "file_extension": ".py",
   "mimetype": "text/x-python",
   "name": "python",
   "nbconvert_exporter": "python",
   "pygments_lexer": "ipython3",
   "version": "3.8.8"
  }
 },
 "nbformat": 4,
 "nbformat_minor": 5
}
